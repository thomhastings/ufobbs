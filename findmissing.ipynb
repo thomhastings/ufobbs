{
 "cells": [
  {
   "cell_type": "code",
   "execution_count": 1,
   "metadata": {},
   "outputs": [],
   "source": [
    "import os"
   ]
  },
  {
   "cell_type": "code",
   "execution_count": 2,
   "metadata": {},
   "outputs": [],
   "source": [
    "dir = \"./0000\"\n",
    "upper_range=999\n"
   ]
  },
  {
   "cell_type": "code",
   "execution_count": 4,
   "metadata": {},
   "outputs": [
    {
     "name": "stdout",
     "output_type": "stream",
     "text": [
      "['879.ufo', '042.ufo', '600.ufo', '460.ufo', '638.ufo', '412.ufo', '019.ufo', '882.ufo', '595.ufo', '332.ufo', '199.ufo', '587.ufo', '710.ufo', '785.ufo', '278.ufo', '918.ufo', '222.ufo', '736.ufo', '693.ufo', '880.ufo', '402.ufo', '692.ufo', '014.ufo', '871.ufo', '380.ufo', '970.ufo', '616.ufo', '294.ufo', '890.ufo', '969.ufo', '013.ufo', '919.ufo', '571.ufo', '628.ufo', '326.ufo', '507.ufo', '025.ufo', '801.ufo', '405.ufo', '604.ufo', '446.ufo', '819.ufo', '875.ufo', '187.ufo', '833.ufo', '477.ufo', '389.ufo', '438.ufo', '329.ufo', '825.ufo', '352.ufo', '584.ufo', '805.ufo', '545.ufo', '872.ufo', '325.ufo', '430.ufo', '588.ufo', '532.ufo', '150.ufo', '102.ufo', '111.ufo', '702.ufo', '724.ufo', '359.ufo', '319.ufo', '579.ufo', '016.ufo', '855.ufo', '029.ufo', '602.ufo', '495.ufo', '261.ufo', '781.ufo', '414.ufo', '812.ufo', '803.ufo', '249.ufo', '815.ufo', '189.ufo', '630.ufo', '707.ufo', '686.ufo', '747.ufo', '906.ufo', '930.ufo', '721.ufo', '992.ufo', '705.ufo', '558.ufo', '476.ufo', '877.ufo', '027.ufo', '777.ufo', '252.ufo', '447.ufo', '159.ufo', '471.ufo', '452.ufo', '826.ufo', '005.ufo', '345.ufo', '052.ufo', '673.ufo', '238.ufo', '183.ufo', '125.ufo', '857.ufo', '922.ufo', '688.ufo', '399.ufo', '836.ufo', '563.ufo', '406.ufo', '994.ufo', '613.ufo', '473.ufo', '056.ufo', '338.ufo', '582.ufo', '002.ufo', '456.ufo', '130.ufo', '241.ufo', '291.ufo', '422.ufo', '484.ufo', '272.ufo', '178.ufo', '506.ufo', '262.ufo', '270.ufo', '250.ufo', '320.ufo', '679.ufo', '050.ufo', '437.ufo', '674.ufo', '743.ufo', '544.ufo', '309.ufo', '454.ufo', '529.ufo', '997.ufo', '522.ufo', '620.ufo', '415.ufo', '037.ufo', '032.ufo', '752.ufo', '093.ufo', '816.ufo', '954.ufo', '246.ufo', '207.ufo', '215.ufo', '083.ufo', '143.ufo', '255.ufo', '982.ufo', '765.ufo', '757.ufo', '106.ufo', '787.ufo', '622.ufo', '502.ufo', '510.ufo', '030.ufo', '560.ufo', '902.ufo', '354.ufo', '564.ufo', '123.ufo', '264.ufo', '243.ufo', '586.ufo', '870.ufo', '413.ufo', '904.ufo', '209.ufo', '226.ufo', '915.ufo', '962.ufo', '360.ufo', '678.ufo', '127.ufo', '172.ufo', '676.ufo', '946.ufo', '792.ufo', '514.ufo', '328.ufo', '064.ufo', '314.ufo', '028.ufo', '634.ufo', '709.ufo', '541.ufo', '364.ufo', '797.ufo', '135.ufo', '194.ufo', '266.ufo', '712.ufo', '597.ufo', '067.ufo', '436.ufo', '508.ufo', '003.ufo', '191.ufo', '201.ufo', '220.ufo', '689.ufo', '039.ufo', '231.ufo', '952.ufo', '817.ufo', '516.ufo', '551.ufo', '006.ufo', '170.ufo', '316.ufo', '259.ufo', '626.ufo', '060.ufo', '965.ufo', '218.ufo', '703.ufo', '277.ufo', '096.ufo', '335.ufo', '515.ufo', '794.ufo', '118.ufo', '853.ufo', '432.ufo', '227.ufo', '601.ufo', '754.ufo', '442.ufo', '391.ufo', '862.ufo', '157.ufo', '367.ufo', '024.ufo', '055.ufo', '869.ufo', '221.ufo', '668.ufo', '213.ufo', '512.ufo', '605.ufo', '607.ufo', '105.ufo', '468.ufo', '491.ufo', '886.ufo', '120.ufo', '455.ufo', '763.ufo', '351.ufo', '715.ufo', '099.ufo', '348.ufo', '866.ufo', '740.ufo', '909.ufo', '441.ufo', '568.ufo', '308.ufo', '726.ufo', '216.ufo', '286.ufo', '636.ufo', '615.ufo', '980.ufo', '735.ufo', '964.ufo', '487.ufo', '935.ufo', '444.ufo', '666.ufo', '136.ufo', '472.ufo', '253.ufo', '453.ufo', '748.ufo', '427.ufo', '655.ufo', '538.ufo', '841.ufo', '426.ufo', '840.ufo', '146.ufo', '378.ufo', '195.ufo', '232.ufo', '807.ufo', '981.ufo', '793.ufo', '914.ufo', '372.ufo', '229.ufo', '012.ufo', '539.ufo', '344.ufo', '864.ufo', '542.ufo', '821.ufo', '526.ufo', '543.ufo', '732.ufo', '237.ufo', '292.ufo', '434.ufo', '843.ufo', '670.ufo', '211.ufo', '791.ufo', '637.ufo', '859.ufo', '917.ufo', '429.ufo', '533.ufo', '738.ufo', '834.ufo', '300.ufo', '119.ufo', '265.ufo', '645.ufo', '891.ufo', '570.ufo', '466.ufo', '293.ufo', '450.ufo', '576.ufo', '114.ufo', '948.ufo', '719.ufo', '521.ufo', '086.ufo', '569.ufo', '492.ufo', '657.ufo', '758.ufo', '177.ufo', '643.ufo', '275.ufo', '631.ufo', '169.ufo', '356.ufo', '714.ufo', '043.ufo', '663.ufo', '685.ufo', '340.ufo', '287.ufo', '528.ufo', '305.ufo', '811.ufo', '525.ufo', '167.ufo', '009.ufo', '984.ufo', '397.ufo', '206.ufo', '131.ufo', '366.ufo', '881.ufo', '876.ufo', '513.ufo', '967.ufo', '921.ufo', '596.ufo', '968.ufo', '369.ufo', '901.ufo', '540.ufo', '799.ufo', '839.ufo', '245.ufo', '868.ufo', '079.ufo', '956.ufo', '830.ufo', '392.ufo', '619.ufo', '829.ufo', '682.ufo', '760.ufo', '007.ufo', '818.ufo', '113.ufo', '063.ufo', '047.ufo', '837.ufo', '420.ufo', '443.ufo', '614.ufo', '728.ufo', '396.ufo', '536.ufo', '646.ufo', '999.ufo', '947.ufo', '896.ufo', '148.ufo', '181.ufo', '161.ufo', '975.ufo', '409.ufo', '184.ufo', '401.ufo', '020.ufo', '196.ufo', '435.ufo', '230.ufo', '585.ufo', '632.ufo', '469.ufo', '379.ufo', '612.ufo', '976.ufo', '433.ufo', '858.ufo', '700.ufo', '145.ufo', '867.ufo', '782.ufo', '068.ufo', '349.ufo', '985.ufo', '075.ufo', '931.ufo', '276.ufo', '464.ufo', '001.ufo', '330.ufo', '725.ufo', '988.ufo', '594.ufo', '133.ufo', '223.ufo', '324.ufo', '152.ufo', '995.ufo', '387.ufo', '073.ufo', '112.ufo', '234.ufo', '288.ufo', '382.ufo', '357.ufo', '549.ufo', '048.ufo', '961.ufo', '979.ufo', '789.ufo', '779.ufo', '217.ufo', '708.ufo', '644.ufo', '173.ufo', '318.ufo', '023.ufo', '248.ufo', '991.ufo', '511.ufo', '910.ufo', '680.ufo', '617.ufo', '049.ufo', '302.ufo', '496.ufo', '459.ufo', '431.ufo', '284.ufo', '766.ufo', '990.ufo', '589.ufo', '257.ufo', '489.ufo', '621.ufo', '942.ufo', '462.ufo', '908.ufo', '913.ufo', '097.ufo', '084.ufo', '499.ufo', '723.ufo', '920.ufo', '865.ufo', '274.ufo', '635.ufo', '899.ufo', '279.ufo', '847.ufo', '193.ufo', '608.ufo', '175.ufo', '845.ufo', '883.ufo', '659.ufo', '730.ufo', '269.ufo', '658.ufo', '860.ufo', '046.ufo', '660.ufo', '941.ufo', '101.ufo', '722.ufo', '116.ufo', '417.ufo', '505.ufo', '835.ufo', '683.ufo', '208.ufo', '518.ufo', '411.ufo', '388.ufo', '085.ufo', '054.ufo', '410.ufo', '933.ufo', '593.ufo', '500.ufo', '494.ufo', '080.ufo', '035.ufo', '122.ufo', '197.ufo', '648.ufo', '573.ufo', '251.ufo', '176.ufo', '069.ufo', '753.ufo', '283.ufo', '572.ufo', '463.ufo', '081.ufo', '806.ufo', '475.ufo', '384.ufo', '151.ufo', '939.ufo', '784.ufo', '832.ufo', '368.ufo', '015.ufo', '611.ufo', '900.ufo', '198.ufo', '664.ufo', '842.ufo', '400.ufo', '671.ufo', '696.ufo', '323.ufo', '548.ufo', '751.ufo', '936.ufo', '065.ufo', '486.ufo', '233.ufo', '527.ufo', '128.ufo', '045.ufo', '044.ufo', '385.ufo', '989.ufo', '312.ufo', '800.ufo', '720.ufo', '100.ufo', '140.ufo', '129.ufo', '583.ufo', '082.ufo', '010.ufo', '945.ufo', '718.ufo', '810.ufo', '745.ufo', '562.ufo', '957.ufo', '467.ufo', '202.ufo', '033.ufo', '795.ufo', '153.ufo', '393.ufo', '520.ufo', '750.ufo', '848.ufo', '139.ufo', '667.ufo', '228.ufo', '488.ufo', '554.ufo', '377.ufo', '591.ufo', '517.ufo', '547.ufo', '578.ufo', '066.ufo', '339.ufo', '950.ufo', '098.ufo', '640.ufo', '972.ufo', '633.ufo', '483.ufo', '940.ufo', '165.ufo', '783.ufo', '149.ufo', '672.ufo', '641.ufo', '559.ufo', '824.ufo', '470.ufo', '629.ufo', '361.ufo', '041.ufo', '109.ufo', '849.ufo', '188.ufo', '214.ufo', '996.ufo', '296.ufo', '481.ufo', '749.ufo', '407.ufo', '684.ufo', '160.ufo', '306.ufo', '804.ufo', '734.ufo', '820.ufo', '928.ufo', '656.ufo', '256.ufo', '949.ufo', '788.ufo', '342.ufo', '850.ufo', '343.ufo', '905.ufo', '171.ufo', '070.ufo', '497.ufo', '108.ufo', '786.ufo', '556.ufo', '650.ufo', '224.ufo', '297.ufo', '022.ufo', '813.ufo', '642.ufo', '694.ufo', '729.ufo', '912.ufo', '706.ufo', '185.ufo', '166.ufo', '581.ufo', '192.ufo', '362.ufo', '599.ufo', '546.ufo', '973.ufo', '428.ufo', '831.ufo', '474.ufo', '375.ufo', '479.ufo', '575.ufo', '565.ufo', '737.ufo', '907.ufo', '874.ufo', '310.ufo', '555.ufo', '598.ufo', '448.ufo', '802.ufo', '317.ufo', '144.ufo', '026.ufo', '759.ufo', '017.ufo', '403.ufo', '212.ufo', '480.ufo', '404.ufo', '077.ufo', '603.ufo', '888.ufo', '653.ufo', '590.ufo', '059.ufo', '021.ufo', '011.ufo', '647.ufo', '458.ufo', '687.ufo', '103.ufo', '091.ufo', '493.ufo', '717.ufo', '934.ufo', '370.ufo', '561.ufo', '885.ufo', '974.ufo', '535.ufo', '775.ufo', '929.ufo', '419.ufo', '651.ufo', '095.ufo', '695.ufo', '210.ufo', '285.ufo', '537.ufo', '846.ufo', '809.ufo', '669.ufo', '156.ufo', '960.ufo', '155.ufo', '796.ufo', '168.ufo', '925.ufo', '423.ufo', '094.ufo', '239.ufo', '519.ufo', '282.ufo', '609.ufo', '926.ufo', '031.ufo', '808.ufo', '395.ufo', '977.ufo', '301.ufo', '639.ufo', '618.ufo', '552.ufo', '652.ufo', '662.ufo', '746.ufo', '174.ufo', '461.ufo', '844.ufo', '390.ufo', '236.ufo', '574.ufo', '036.ufo', '281.ufo', '567.ufo', '764.ufo', '381.ufo', '347.ufo', '346.ufo', '121.ufo', '681.ufo', '336.ufo', '268.ufo', '897.ufo', '733.ufo', '295.ufo', '132.ufo', '894.ufo', '983.ufo', '827.ufo', '273.ufo', '398.ufo', '711.ufo', '451.ufo', '087.ufo', '739.ufo', '903.ufo', '986.ufo', '299.ufo', '958.ufo', '341.ufo', '117.ufo', '861.ufo', '823.ufo', '501.ufo', '509.ufo', '814.ufo', '998.ufo', '774.ufo', '072.ufo', '200.ufo', '164.ufo', '863.ufo', '141.ufo', '623.ufo', '235.ufo', '307.ufo', '088.ufo', '040.ufo', '895.ufo', '421.ufo', '076.ufo', '966.ufo', '649.ufo', '353.ufo', '756.ufo', '374.ufo', '744.ufo', '424.ufo', '267.ufo', '078.ufo', '927.ufo', '963.ufo', '090.ufo', '289.ufo', '699.ufo', '873.ufo', '394.ufo', '358.ufo', '038.ufo', '254.ufo', '363.ufo', '610.ufo', '697.ufo', '741.ufo', '768.ufo', '923.ufo', '203.ufo', '350.ufo', '062.ufo', '408.ufo', '937.ufo', '058.ufo', '773.ufo', '790.ufo', '852.ufo', '061.ufo', '769.ufo', '524.ufo', '627.ufo', '205.ufo', '018.ufo', '260.ufo', '916.ufo', '889.ufo', '386.ufo', '315.ufo', '772.ufo', '675.ufo', '416.ufo', '690.ufo', '337.ufo', '932.ufo', '180.ufo', '490.ufo', '147.ufo', '057.ufo', '334.ufo', '566.ufo', '898.ufo', '110.ufo', '953.ufo', '247.ufo', '770.ufo', '383.ufo', '290.ufo', '851.ufo', '854.ufo', '485.ufo', '371.ufo', '190.ufo', '440.ufo', '884.ufo', '465.ufo', '298.ufo', '771.ufo', '951.ufo', '523.ufo', '755.ufo', '258.ufo', '240.ufo', '606.ufo', '225.ufo', '592.ufo', '154.ufo', '124.ufo', '053.ufo', '822.ufo', '762.ufo', '654.ufo', '004.ufo', '179.ufo', '322.ufo', '531.ufo', '449.ufo', '503.ufo', '677.ufo', '959.ufo', '971.ufo', '186.ufo', '138.ufo', '911.ufo', '242.ufo', '457.ufo', '478.ufo', '313.ufo', '993.ufo', '504.ufo', '142.ufo', '304.ufo', '691.ufo', '158.ufo', '373.ufo', '701.ufo', '376.ufo', '327.ufo', '331.ufo', '092.ufo', '365.ufo', '182.ufo', '780.ufo', '162.ufo', '577.ufo', '892.ufo', '244.ufo', '987.ufo', '698.ufo', '761.ufo', '137.ufo', '074.ufo', '731.ufo', '887.ufo', '445.ufo', '530.ufo', '104.ufo', '742.ufo', '263.ufo', '955.ufo', '924.ufo', '311.ufo', '624.ufo', '051.ufo', '661.ufo', '280.ufo', '418.ufo', '878.ufo', '893.ufo', '482.ufo', '550.ufo', '553.ufo', '425.ufo', '107.ufo', '439.ufo', '767.ufo', '115.ufo', '219.ufo', '943.ufo', '778.ufo', '856.ufo', '163.ufo', '071.ufo', '978.ufo', '333.ufo', '534.ufo', '134.ufo', '204.ufo', '944.ufo', '126.ufo', '828.ufo', '625.ufo', '776.ufo', '798.ufo', '580.ufo', '938.ufo', '498.ufo', '557.ufo', '089.ufo', '665.ufo', '727.ufo', '355.ufo', '008.ufo', '704.ufo', '321.ufo', '303.ufo', '713.ufo', '716.ufo', '838.ufo', '034.ufo']\n"
     ]
    }
   ],
   "source": [
    "files = os.listdir(dir)\n",
    "print(files)"
   ]
  },
  {
   "cell_type": "code",
   "execution_count": 5,
   "metadata": {},
   "outputs": [
    {
     "name": "stdout",
     "output_type": "stream",
     "text": [
      "0 missing\n",
      "1 missing\n",
      "2 missing\n",
      "3 missing\n",
      "4 missing\n",
      "5 missing\n",
      "6 missing\n",
      "7 missing\n",
      "8 missing\n",
      "9 missing\n",
      "10 missing\n",
      "11 missing\n",
      "12 missing\n",
      "13 missing\n",
      "14 missing\n",
      "15 missing\n",
      "16 missing\n",
      "17 missing\n",
      "18 missing\n",
      "19 missing\n",
      "20 missing\n",
      "21 missing\n",
      "22 missing\n",
      "23 missing\n",
      "24 missing\n",
      "25 missing\n",
      "26 missing\n",
      "27 missing\n",
      "28 missing\n",
      "29 missing\n",
      "30 missing\n",
      "31 missing\n",
      "32 missing\n",
      "33 missing\n",
      "34 missing\n",
      "35 missing\n",
      "36 missing\n",
      "37 missing\n",
      "38 missing\n",
      "39 missing\n",
      "40 missing\n",
      "41 missing\n",
      "42 missing\n",
      "43 missing\n",
      "44 missing\n",
      "45 missing\n",
      "46 missing\n",
      "47 missing\n",
      "48 missing\n",
      "49 missing\n",
      "50 missing\n",
      "51 missing\n",
      "52 missing\n",
      "53 missing\n",
      "54 missing\n",
      "55 missing\n",
      "56 missing\n",
      "57 missing\n",
      "58 missing\n",
      "59 missing\n",
      "60 missing\n",
      "61 missing\n",
      "62 missing\n",
      "63 missing\n",
      "64 missing\n",
      "65 missing\n",
      "66 missing\n",
      "67 missing\n",
      "68 missing\n",
      "69 missing\n",
      "70 missing\n",
      "71 missing\n",
      "72 missing\n",
      "73 missing\n",
      "74 missing\n",
      "75 missing\n",
      "76 missing\n",
      "77 missing\n",
      "78 missing\n",
      "79 missing\n",
      "80 missing\n",
      "81 missing\n",
      "82 missing\n",
      "83 missing\n",
      "84 missing\n",
      "85 missing\n",
      "86 missing\n",
      "87 missing\n",
      "88 missing\n",
      "89 missing\n",
      "90 missing\n",
      "91 missing\n",
      "92 missing\n",
      "93 missing\n",
      "94 missing\n",
      "95 missing\n",
      "96 missing\n",
      "97 missing\n",
      "98 missing\n",
      "99 missing\n",
      "271 missing\n"
     ]
    }
   ],
   "source": [
    "\n",
    "for i in range(0,upper_range):\n",
    "    if (f\"{str(i)}.ufo\" not in files):\n",
    "        print(f\"{str(i)}.ufo\")\n",
    "        print(f\"{i} missing\")\n"
   ]
  }
 ],
 "metadata": {
  "kernelspec": {
   "display_name": "Python 3",
   "language": "python",
   "name": "python3"
  },
  "language_info": {
   "codemirror_mode": {
    "name": "ipython",
    "version": 3
   },
   "file_extension": ".py",
   "mimetype": "text/x-python",
   "name": "python",
   "nbconvert_exporter": "python",
   "pygments_lexer": "ipython3",
   "version": "3.10.6"
  },
  "orig_nbformat": 4
 },
 "nbformat": 4,
 "nbformat_minor": 2
}
